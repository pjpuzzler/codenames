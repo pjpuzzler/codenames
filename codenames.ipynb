{
 "cells": [
  {
   "cell_type": "code",
   "execution_count": 1,
   "metadata": {},
   "outputs": [],
   "source": [
    "from gensim.models import KeyedVectors\n",
    "from itertools import combinations\n",
    "from time import sleep"
   ]
  },
  {
   "cell_type": "code",
   "execution_count": 2,
   "metadata": {},
   "outputs": [],
   "source": [
    "model = KeyedVectors.load_word2vec_format(\n",
    "    'GoogleNews-vectors-negative300.bin.gz', binary=True)"
   ]
  },
  {
   "cell_type": "code",
   "execution_count": 1,
   "metadata": {},
   "outputs": [],
   "source": [
    "def check_valid(x: str, c: tuple[str]) -> bool:\n",
    "    x = x.lower()\n",
    "    return '_' not in x and not any(x.startswith(y) for y in list(c) + words) and x.isalpha()\n",
    "\n",
    "def get_combos(blu_turn: bool, n: int) -> dict[tuple[str], tuple[str, float]]:\n",
    "    d = {c: list(filter(lambda x: check_valid(x[0], c), model.most_similar(list(c), [(x, -0.05) for x in tan] + [(x, -0.1) for x in bad] + [(ded, -0.5)], 5))) for c in combinations(gud, n)}\n",
    "    d = {k: v[0] for k, v in d.items() if v}\n",
    "    return d"
   ]
  },
  {
   "cell_type": "code",
   "execution_count": 2,
   "metadata": {},
   "outputs": [],
   "source": [
    "blu = 'night Greece hotel port space fall fire bug pool'.split()\n",
    "red = 'mail mug skyscraper cast buffalo England penguin fish'.split()\n",
    "tan = 'oil snowman dwarf police card screen server'.split()\n",
    "ded = 'Beijing'\n",
    "words = blu + red + tan + [ded]"
   ]
  },
  {
   "cell_type": "code",
   "execution_count": 3,
   "metadata": {},
   "outputs": [],
   "source": [
    "blu_turn = True\n",
    "\n",
    "if blu_turn:\n",
    "    gud = blu\n",
    "    bad = red\n",
    "else:\n",
    "    gud = red\n",
    "    bad = blu"
   ]
  },
  {
   "cell_type": "code",
   "execution_count": null,
   "metadata": {},
   "outputs": [],
   "source": [
    "l = [sorted(get_combos(blu_turn, n).items(), key=lambda x: x[1][1], reverse=True)[:5] for n in range(1, min(4, len(gud) + 1))]\n",
    "\n",
    "best = max([x[0] for x in l], key=lambda x: x[1][1])\n",
    "best[1][0], len(best[0])"
   ]
  },
  {
   "cell_type": "code",
   "execution_count": null,
   "metadata": {},
   "outputs": [],
   "source": [
    "best"
   ]
  },
  {
   "cell_type": "code",
   "execution_count": 191,
   "metadata": {},
   "outputs": [],
   "source": [
    "words = \"\"\"\n",
    "mouth ray maple soul swing\n",
    "scale watch log agent slip\n",
    "concert straw mug knight file\n",
    "pie beat wall dragon litter\n",
    "ruler well school bat cast\n",
    "\"\"\".split()"
   ]
  },
  {
   "cell_type": "code",
   "execution_count": 198,
   "metadata": {},
   "outputs": [
    {
     "name": "stdout",
     "output_type": "stream",
     "text": [
      "Clue: baseball 2\n",
      "Guess 1: bat (42.59%)\n",
      "Guess 2: school (28.98%)\n"
     ]
    }
   ],
   "source": [
    "guess_all = False\n",
    "\n",
    "clue = '_'.join(input('Enter clue: ').split())\n",
    "n = int(input('Enter number: '))\n",
    "print(f'Clue: {clue} {n}')\n",
    "tries = words[:]\n",
    "for i in range(n):\n",
    "    guess = model.most_similar_to_given(clue, tries)\n",
    "    sim = model.similarity(guess, clue)\n",
    "    if not guess_all and i > 0 and sim < 0.1:\n",
    "        print('End guessing')\n",
    "        break\n",
    "    print(f'Guess {i+1}: {guess} ({sim:.2%})')\n",
    "    words.remove(guess)\n",
    "    if i == n - 1:\n",
    "        break\n",
    "    sleep(0.25)\n",
    "    if input('Correct (y/n): ').lower() == 'y':\n",
    "        tries.remove(guess)\n",
    "    else:\n",
    "        break"
   ]
  },
  {
   "cell_type": "code",
   "execution_count": null,
   "metadata": {},
   "outputs": [],
   "source": []
  }
 ],
 "metadata": {
  "kernelspec": {
   "display_name": "Python 3.10.6 64-bit (windows store)",
   "language": "python",
   "name": "python3"
  },
  "language_info": {
   "codemirror_mode": {
    "name": "ipython",
    "version": 3
   },
   "file_extension": ".py",
   "mimetype": "text/x-python",
   "name": "python",
   "nbconvert_exporter": "python",
   "pygments_lexer": "ipython3",
   "version": "3.10.6"
  },
  "orig_nbformat": 4,
  "vscode": {
   "interpreter": {
    "hash": "46db1595fb7b69d00881e2e84135477275de422da22536afa28445e62c3b6c04"
   }
  }
 },
 "nbformat": 4,
 "nbformat_minor": 2
}
