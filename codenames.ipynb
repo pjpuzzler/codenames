{
 "cells": [
  {
   "cell_type": "code",
   "execution_count": 22,
   "metadata": {},
   "outputs": [],
   "source": [
    "from gensim.models import KeyedVectors\n",
    "from time import sleep"
   ]
  },
  {
   "cell_type": "code",
   "execution_count": 11,
   "metadata": {},
   "outputs": [],
   "source": [
    "model = KeyedVectors.load_word2vec_format(\n",
    "    'GoogleNews-vectors-negative300.bin.gz', binary=True)"
   ]
  },
  {
   "cell_type": "code",
   "execution_count": 56,
   "metadata": {},
   "outputs": [],
   "source": [
    "words = \"\"\"\n",
    "pound cloak platypus crown shot\n",
    "root telescope circle pie cotton\n",
    "capital Antarctica Olympus eagle day\n",
    "hole gas kiwi cliff princess\n",
    "star iron horn force mouse\n",
    "\"\"\".split()"
   ]
  },
  {
   "cell_type": "code",
   "execution_count": 80,
   "metadata": {},
   "outputs": [
    {
     "name": "stdout",
     "output_type": "stream",
     "text": [
      "Clue: potato 3\n",
      "Guess 1: gas (22.56%)\n"
     ]
    }
   ],
   "source": [
    "guess_all = True\n",
    "\n",
    "clue = '_'.join(input('Enter clue: ').split())\n",
    "n = int(input('Enter number: '))\n",
    "print(f'Clue: {clue} {n}')\n",
    "tries = words[:]\n",
    "for i in range(n):\n",
    "    guess = model.most_similar_to_given(clue, tries)\n",
    "    sim = model.similarity(guess, clue)\n",
    "    if not guess_all and i > 0 and sim < 0.1:\n",
    "        print('End guessing')\n",
    "        break\n",
    "    print(f'Guess {i+1}: {guess} ({sim:.2%})')\n",
    "    words.remove(guess)\n",
    "    if i == n - 1:\n",
    "        break\n",
    "    sleep(0.25)\n",
    "    if input('Correct (y/n): ').lower() == 'y':\n",
    "        tries.remove(guess)\n",
    "    else:\n",
    "        break"
   ]
  },
  {
   "cell_type": "code",
   "execution_count": null,
   "metadata": {},
   "outputs": [],
   "source": []
  }
 ],
 "metadata": {
  "kernelspec": {
   "display_name": "Python 3.10.6 64-bit (windows store)",
   "language": "python",
   "name": "python3"
  },
  "language_info": {
   "codemirror_mode": {
    "name": "ipython",
    "version": 3
   },
   "file_extension": ".py",
   "mimetype": "text/x-python",
   "name": "python",
   "nbconvert_exporter": "python",
   "pygments_lexer": "ipython3",
   "version": "3.10.6"
  },
  "orig_nbformat": 4,
  "vscode": {
   "interpreter": {
    "hash": "46db1595fb7b69d00881e2e84135477275de422da22536afa28445e62c3b6c04"
   }
  }
 },
 "nbformat": 4,
 "nbformat_minor": 2
}
